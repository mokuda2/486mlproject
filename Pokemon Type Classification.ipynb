{
 "cells": [
  {
   "cell_type": "markdown",
   "id": "f6f4a639",
   "metadata": {},
   "source": [
    "# Web Scraping PokeAPI Data"
   ]
  },
  {
   "cell_type": "code",
   "execution_count": 5,
   "id": "6529b3d9",
   "metadata": {},
   "outputs": [],
   "source": [
    "import pandas as pd\n",
    "import numpy as np\n",
    "import requests\n",
    "import re\n",
    "import matplotlib.pyplot as plt\n",
    "import seaborn as sns\n",
    "import io\n",
    "import json"
   ]
  },
  {
   "cell_type": "code",
   "execution_count": null,
   "id": "a1339448",
   "metadata": {},
   "outputs": [],
   "source": [
    "# base url for the PokeAPI website\n",
    "poke_url = 'https://pokeapi.co/api/v2/pokemon/'"
   ]
  },
  {
   "cell_type": "code",
   "execution_count": null,
   "id": "3bd66c13",
   "metadata": {},
   "outputs": [],
   "source": [
    "# retrieves Pokemon names\n",
    "pokemon_name_list = [requests.get(poke_url + str(i+1) + '/').json()['name'] for i in range(0, 1010)]"
   ]
  },
  {
   "cell_type": "code",
   "execution_count": null,
   "id": "e8db8805",
   "metadata": {},
   "outputs": [],
   "source": [
    "# retrieves base stats for all Pokemon\n",
    "base_stats_list = [j['base_stat'] for i in range(0, 1010) for j in requests.get(poke_url + str(i+1)).json()['stats']]"
   ]
  },
  {
   "cell_type": "code",
   "execution_count": null,
   "id": "9e045ea4",
   "metadata": {},
   "outputs": [],
   "source": [
    "# create empty lists for each base stat\n",
    "hp_stat = []\n",
    "attack_stat = []\n",
    "defense_stat = []\n",
    "special_attack_stat = []\n",
    "special_defense_stat = []\n",
    "speed_stat = []\n",
    "\n",
    "# put base stat value in appropriate list\n",
    "for i in range(len(base_stats_list)):\n",
    "    if i % 6 == 0:\n",
    "        hp_stat.append(base_stats_list[i])\n",
    "    elif i % 6 == 1:\n",
    "        attack_stat.append(base_stats_list[i])\n",
    "    elif i % 6 == 2:\n",
    "        defense_stat.append(base_stats_list[i])\n",
    "    elif i % 6 == 3:\n",
    "        special_attack_stat.append(base_stats_list[i])\n",
    "    elif i % 6 == 4:\n",
    "        special_defense_stat.append(base_stats_list[i])\n",
    "    else:\n",
    "        speed_stat.append(base_stats_list[i])"
   ]
  },
  {
   "cell_type": "code",
   "execution_count": 59,
   "id": "d8e475a4",
   "metadata": {},
   "outputs": [
    {
     "data": {
      "text/plain": [
       "2"
      ]
     },
     "execution_count": 59,
     "metadata": {},
     "output_type": "execute_result"
    }
   ],
   "source": [
    "# some Pokemon have one type while others, like Charizard, have two\n",
    "len(requests.get('https://pokeapi.co/api/v2/pokemon/charizard').json()['types'])"
   ]
  },
  {
   "cell_type": "code",
   "execution_count": 62,
   "id": "a34015ae",
   "metadata": {},
   "outputs": [
    {
     "data": {
      "text/plain": [
       "[{'slot': 1,\n",
       "  'type': {'name': 'fire', 'url': 'https://pokeapi.co/api/v2/type/10/'}},\n",
       " {'slot': 2,\n",
       "  'type': {'name': 'flying', 'url': 'https://pokeapi.co/api/v2/type/3/'}}]"
      ]
     },
     "execution_count": 62,
     "metadata": {},
     "output_type": "execute_result"
    }
   ],
   "source": [
    "# see what the types are\n",
    "requests.get('https://pokeapi.co/api/v2/pokemon/charizard').json()['types']"
   ]
  },
  {
   "cell_type": "code",
   "execution_count": 60,
   "id": "c2518972",
   "metadata": {},
   "outputs": [
    {
     "data": {
      "text/plain": [
       "'fire'"
      ]
     },
     "execution_count": 60,
     "metadata": {},
     "output_type": "execute_result"
    }
   ],
   "source": [
    "# pull the specific type\n",
    "requests.get('https://pokeapi.co/api/v2/pokemon/charizard').json()['types'][0]['type']['name']"
   ]
  },
  {
   "cell_type": "code",
   "execution_count": null,
   "id": "dc0ca1b9",
   "metadata": {},
   "outputs": [],
   "source": [
    "# create lists for type 1 and type 2\n",
    "type1 = []\n",
    "type2 = []\n",
    "\n",
    "# append the type to the appropriate list\n",
    "for t in range(1010):\n",
    "    if len(requests.get('https://pokeapi.co/api/v2/pokemon/' + str(t+1) + '/').json()['types']) == 1:\n",
    "        type1.append(requests.get('https://pokeapi.co/api/v2/pokemon/' + str(t+1) + '/').json()['types'][0]['type']['name'])\n",
    "        type2.append('')\n",
    "    else:\n",
    "        type1.append(requests.get('https://pokeapi.co/api/v2/pokemon/' + str(t+1) + '/').json()['types'][0]['type']['name'])\n",
    "        type2.append(requests.get('https://pokeapi.co/api/v2/pokemon/' + str(t+1) + '/').json()['types'][1]['type']['name'])"
   ]
  },
  {
   "cell_type": "code",
   "execution_count": null,
   "id": "97f7cb66",
   "metadata": {},
   "outputs": [],
   "source": [
    "# create pandas data frame\n",
    "dictionary = {\"Pokemon Name\" : pokemon_name_list, \"Type 1\" : type1, \"Type 2\" : type2, \"hp\" : hp_stat, \"attack\" : attack_stat, \"defense\" : defense_stat,\n",
    "             \"special attack\" : special_attack_stat, \"special defense\" : special_defense_stat, \"speed\" : speed_stat}\n",
    "pokemon_df = pd.DataFrame(dictionary)"
   ]
  },
  {
   "cell_type": "code",
   "execution_count": 3,
   "id": "d11e4375",
   "metadata": {
    "collapsed": true
   },
   "outputs": [
    {
     "ename": "NameError",
     "evalue": "name 'pokemon_df' is not defined",
     "output_type": "error",
     "traceback": [
      "\u001b[1;31m---------------------------------------------------------------------------\u001b[0m",
      "\u001b[1;31mNameError\u001b[0m                                 Traceback (most recent call last)",
      "Cell \u001b[1;32mIn[3], line 1\u001b[0m\n\u001b[1;32m----> 1\u001b[0m pokemon_df\u001b[38;5;241m.\u001b[39mto_csv(\u001b[38;5;124m'\u001b[39m\u001b[38;5;124mpokemon_type_and_base_stats.csv\u001b[39m\u001b[38;5;124m'\u001b[39m, index\u001b[38;5;241m=\u001b[39m\u001b[38;5;28;01mFalse\u001b[39;00m)\n",
      "\u001b[1;31mNameError\u001b[0m: name 'pokemon_df' is not defined"
     ]
    }
   ],
   "source": [
    "# create CSV of pandas data frame\n",
    "pokemon_df.to_csv('pokemon_type_and_base_stats.csv', index=False)"
   ]
  },
  {
   "cell_type": "markdown",
   "id": "83703703",
   "metadata": {},
   "source": [
    "# Feature Engineering PokeAPI Data"
   ]
  },
  {
   "cell_type": "code",
   "execution_count": 33,
   "id": "42998fac",
   "metadata": {},
   "outputs": [],
   "source": [
    "# create combinations of the sums of different base stats\n",
    "pokemon_df_stat_combos = pokemon_df.copy()\n",
    "pokemon_df_stat_combos['attack and special attack'] = pokemon_df_stat_combos['attack'] + pokemon_df_stat_combos['special attack']\n",
    "pokemon_df_stat_combos['defense and special defense'] = pokemon_df_stat_combos['defense'] + pokemon_df_stat_combos['special defense']\n",
    "pokemon_df_stat_combos['attack and speed'] = pokemon_df_stat_combos['attack'] + pokemon_df_stat_combos['speed']\n",
    "pokemon_df_stat_combos['special attack and speed'] = pokemon_df_stat_combos['special attack'] + pokemon_df_stat_combos['speed']\n",
    "pokemon_df_stat_combos.drop(['attack', 'defense', 'special attack', 'special defense', 'speed'], axis=1, inplace=True)"
   ]
  },
  {
   "cell_type": "code",
   "execution_count": 34,
   "id": "5406a4de",
   "metadata": {},
   "outputs": [],
   "source": [
    "# create CSV\n",
    "pokemon_df_stat_combos.to_csv('pokemon_type_and_base_stats_combos.csv', index=False)"
   ]
  },
  {
   "cell_type": "code",
   "execution_count": 35,
   "id": "c2052083",
   "metadata": {},
   "outputs": [],
   "source": [
    "# create ratios of the different base stats by dividing by \"speed\"\n",
    "pokemon_df_stat_ratios = pokemon_df.copy()\n",
    "pokemon_df_stat_ratios['hp / speed'] = pokemon_df_stat_ratios['hp'] / pokemon_df_stat_ratios['speed']\n",
    "pokemon_df_stat_ratios['attack / speed'] = pokemon_df_stat_ratios['attack'] / pokemon_df_stat_ratios['speed']\n",
    "pokemon_df_stat_ratios['defense / speed'] = pokemon_df_stat_ratios['defense'] / pokemon_df_stat_ratios['speed']\n",
    "pokemon_df_stat_ratios['special attack / speed'] = pokemon_df_stat_ratios['special attack'] / pokemon_df_stat_ratios['speed']\n",
    "pokemon_df_stat_ratios['special defense / speed'] = pokemon_df_stat_ratios['special defense'] / pokemon_df_stat_ratios['speed']\n",
    "pokemon_df_stat_ratios.drop(['hp', 'attack', 'defense', 'special attack', 'special defense', 'speed'], axis=1, inplace=True)"
   ]
  },
  {
   "cell_type": "code",
   "execution_count": 37,
   "id": "42cbee68",
   "metadata": {},
   "outputs": [],
   "source": [
    "# create CSV\n",
    "pokemon_df_stat_ratios.to_csv('pokemon_type_and_base_stats_ratios.csv', index=False)"
   ]
  },
  {
   "cell_type": "code",
   "execution_count": 90,
   "id": "22edc2af",
   "metadata": {},
   "outputs": [],
   "source": [
    "# read in the CSV files\n",
    "pokemon_df = pd.read_csv('pokemon_type_and_base_stats.csv')\n",
    "pokemon_df_combos = pd.read_csv('pokemon_type_and_base_stats_combos.csv')\n",
    "pokemon_df_ratios = pd.read_csv('pokemon_type_and_base_stats_ratios.csv')"
   ]
  },
  {
   "cell_type": "markdown",
   "id": "efd42d37",
   "metadata": {},
   "source": [
    "# EDA, Preprocessing, and Feature Engineering Kaggle Dataset"
   ]
  },
  {
   "cell_type": "code",
   "execution_count": 39,
   "id": "21780858",
   "metadata": {},
   "outputs": [
    {
     "data": {
      "text/html": [
       "<div>\n",
       "<style scoped>\n",
       "    .dataframe tbody tr th:only-of-type {\n",
       "        vertical-align: middle;\n",
       "    }\n",
       "\n",
       "    .dataframe tbody tr th {\n",
       "        vertical-align: top;\n",
       "    }\n",
       "\n",
       "    .dataframe thead th {\n",
       "        text-align: right;\n",
       "    }\n",
       "</style>\n",
       "<table border=\"1\" class=\"dataframe\">\n",
       "  <thead>\n",
       "    <tr style=\"text-align: right;\">\n",
       "      <th></th>\n",
       "      <th>Name</th>\n",
       "      <th>Filepath</th>\n",
       "    </tr>\n",
       "  </thead>\n",
       "  <tbody>\n",
       "    <tr>\n",
       "      <th>0</th>\n",
       "      <td>abomasnow</td>\n",
       "      <td>images\\images\\abomasnow.png</td>\n",
       "    </tr>\n",
       "    <tr>\n",
       "      <th>1</th>\n",
       "      <td>abra</td>\n",
       "      <td>images\\images\\abra.png</td>\n",
       "    </tr>\n",
       "    <tr>\n",
       "      <th>2</th>\n",
       "      <td>absol</td>\n",
       "      <td>images\\images\\absol.png</td>\n",
       "    </tr>\n",
       "    <tr>\n",
       "      <th>3</th>\n",
       "      <td>accelgor</td>\n",
       "      <td>images\\images\\accelgor.png</td>\n",
       "    </tr>\n",
       "    <tr>\n",
       "      <th>4</th>\n",
       "      <td>aegislash-blade</td>\n",
       "      <td>images\\images\\aegislash-blade.png</td>\n",
       "    </tr>\n",
       "  </tbody>\n",
       "</table>\n",
       "</div>"
      ],
      "text/plain": [
       "              Name                           Filepath\n",
       "0        abomasnow        images\\images\\abomasnow.png\n",
       "1             abra             images\\images\\abra.png\n",
       "2            absol            images\\images\\absol.png\n",
       "3         accelgor         images\\images\\accelgor.png\n",
       "4  aegislash-blade  images\\images\\aegislash-blade.png"
      ]
     },
     "execution_count": 39,
     "metadata": {},
     "output_type": "execute_result"
    }
   ],
   "source": [
    "from pathlib import Path\n",
    "import os\n",
    "\n",
    "# create path object to get into the images directory\n",
    "path1 = Path('images/images')\n",
    "\n",
    "# create a list of the file paths that end in .png\n",
    "files_paths = list(path1.glob('*.png'))\n",
    "\n",
    "# list comprehension that gets the second element of each tuple of the split path ([pokemon_name].png)\n",
    "names = [os.path.split(x)[1] for x in files_paths]\n",
    "\n",
    "# concatenate names list and files_paths list\n",
    "image_df = pd.concat([pd.Series(names, name='Name'), pd.Series(files_paths, name='Filepath').astype(str)], axis=1)\n",
    "\n",
    "# regex matches the file extension\n",
    "image_df['Name'] = image_df['Name'].apply(lambda x: re.sub(r'\\.\\w+$', '', x))\n",
    "image_df.head()"
   ]
  },
  {
   "cell_type": "code",
   "execution_count": 40,
   "id": "e3b7194e",
   "metadata": {},
   "outputs": [
    {
     "data": {
      "text/html": [
       "<div>\n",
       "<style scoped>\n",
       "    .dataframe tbody tr th:only-of-type {\n",
       "        vertical-align: middle;\n",
       "    }\n",
       "\n",
       "    .dataframe tbody tr th {\n",
       "        vertical-align: top;\n",
       "    }\n",
       "\n",
       "    .dataframe thead th {\n",
       "        text-align: right;\n",
       "    }\n",
       "</style>\n",
       "<table border=\"1\" class=\"dataframe\">\n",
       "  <thead>\n",
       "    <tr style=\"text-align: right;\">\n",
       "      <th></th>\n",
       "      <th>Filepath</th>\n",
       "      <th>Type1</th>\n",
       "    </tr>\n",
       "  </thead>\n",
       "  <tbody>\n",
       "    <tr>\n",
       "      <th>0</th>\n",
       "      <td>images\\images\\abomasnow.png</td>\n",
       "      <td>Grass</td>\n",
       "    </tr>\n",
       "    <tr>\n",
       "      <th>1</th>\n",
       "      <td>images\\images\\abra.png</td>\n",
       "      <td>Psychic</td>\n",
       "    </tr>\n",
       "    <tr>\n",
       "      <th>2</th>\n",
       "      <td>images\\images\\absol.png</td>\n",
       "      <td>Dark</td>\n",
       "    </tr>\n",
       "    <tr>\n",
       "      <th>3</th>\n",
       "      <td>images\\images\\accelgor.png</td>\n",
       "      <td>Bug</td>\n",
       "    </tr>\n",
       "    <tr>\n",
       "      <th>4</th>\n",
       "      <td>images\\images\\aegislash-blade.png</td>\n",
       "      <td>Steel</td>\n",
       "    </tr>\n",
       "  </tbody>\n",
       "</table>\n",
       "</div>"
      ],
      "text/plain": [
       "                            Filepath    Type1\n",
       "0        images\\images\\abomasnow.png    Grass\n",
       "1             images\\images\\abra.png  Psychic\n",
       "2            images\\images\\absol.png     Dark\n",
       "3         images\\images\\accelgor.png      Bug\n",
       "4  images\\images\\aegislash-blade.png    Steel"
      ]
     },
     "execution_count": 40,
     "metadata": {},
     "output_type": "execute_result"
    }
   ],
   "source": [
    "# read in pokemon.csv\n",
    "pokemon = pd.read_csv('pokemon.csv')\n",
    "\n",
    "# merge image_df and pokemon data frames on the \"Name\" column\n",
    "df = image_df.merge(pokemon, on='Name')\n",
    "\n",
    "# drop the Name and Type2 columns\n",
    "df = df.drop(['Name', 'Type2'], axis=1) \n",
    "df.head()"
   ]
  },
  {
   "cell_type": "code",
   "execution_count": 41,
   "id": "7c37a3b7",
   "metadata": {},
   "outputs": [],
   "source": [
    "import seaborn as sns\n",
    "\n",
    "# assigns colors to the different types for visualizations\n",
    "custom_colors = {\n",
    "    'Normal': 'gray',\n",
    "    'Fire': 'orange',\n",
    "    'Water': 'blue',\n",
    "    'Grass': 'green',\n",
    "    'Fairy': 'pink',\n",
    "    'Fighting': 'red',\n",
    "    'Dark': 'black',\n",
    "    'Flying': 'turquoise', \n",
    "    'Ghost': 'purple',\n",
    "    'Electric': 'yellow',\n",
    "    'Ground': 'brown',\n",
    "    'Ice': 'white',\n",
    "    'Bug': '#003008',\n",
    "    'Poison': 'magenta',\n",
    "    'Psychic': 'lavender',\n",
    "    'Rock': 'burlywood',\n",
    "    'Steel': 'silver',\n",
    "    'Dragon': 'indigo'\n",
    "}"
   ]
  },
  {
   "cell_type": "code",
   "execution_count": 43,
   "id": "6a93d84f",
   "metadata": {},
   "outputs": [],
   "source": [
    "# make a list of the types\n",
    "types = list(custom_colors.keys())\n",
    "\n",
    "# loop through the types and count the number of values that match the type name\n",
    "type_nums = []\n",
    "for type_ in types:\n",
    "    type_nums.append(sum(df['Type1']==type_))\n",
    "\n",
    "# create data frame and sort in descending order by Count\n",
    "data = {'Count': type_nums}\n",
    "data_df = pd.DataFrame(data, index=types).sort_values(by='Count', ascending=False)\n",
    "\n",
    "# get the types\n",
    "types = data_df.index.to_list()\n",
    "\n",
    "# rearrange the colors to match key order with \"types\" order\n",
    "rearranged_colors = {key: custom_colors[key] for key in types}\n",
    "\n",
    "# get color palette\n",
    "sns.set(font_scale=1.25)\n",
    "sns.set_palette(sns.color_palette(rearranged_colors.values()))\n",
    "# sns.palplot(sns.color_palette(rearranged_colors.values()),size=1)"
   ]
  },
  {
   "cell_type": "code",
   "execution_count": 44,
   "id": "4d053e66",
   "metadata": {},
   "outputs": [
    {
     "data": {
      "image/png": "[encoded data removed]",
      "text/plain": [
       "<Figure size 640x480 with 1 Axes>"
      ]
     },
     "metadata": {},
     "output_type": "display_data"
    }
   ],
   "source": [
    "# create barplot of the count of each type in descending order\n",
    "plt.title('Number of each type')\n",
    "ax = sns.barplot(x=data_df.index, y='Count', data=data_df)\n",
    "ax.set_xticklabels(ax.get_xticklabels(), rotation=45, ha=\"center\")\n",
    "plt.show()"
   ]
  },
  {
   "cell_type": "markdown",
   "id": "d14089d9",
   "metadata": {},
   "source": [
    "# CNN with Kaggle Dataset"
   ]
  },
  {
   "cell_type": "code",
   "execution_count": 91,
   "id": "1665b674",
   "metadata": {},
   "outputs": [],
   "source": [
    "from tensorflow.keras.preprocessing.image import ImageDataGenerator\n",
    "from tensorflow.keras.models import Sequential\n",
    "from tensorflow.keras.layers import Dense, Flatten, InputLayer\n",
    "from tensorflow.keras.layers import Conv2D, MaxPooling2D\n",
    "from tensorflow.keras.applications import VGG16\n",
    "from tensorflow.keras.models import Model\n",
    "from sklearn.model_selection import train_test_split"
   ]
  },
  {
   "cell_type": "code",
   "execution_count": 32,
   "id": "05c06981",
   "metadata": {},
   "outputs": [
    {
     "name": "stdout",
     "output_type": "stream",
     "text": [
      "Found 577 validated image filenames belonging to 18 classes.\n",
      "Found 144 validated image filenames belonging to 18 classes.\n"
     ]
    }
   ],
   "source": [
    "# create image generator\n",
    "datagen = ImageDataGenerator(rescale=1./255, validation_split=0.2)\n",
    "\n",
    "# create training set\n",
    "train_data = datagen.flow_from_dataframe(\n",
    "    df,\n",
    "    x_col='Filepath',\n",
    "    y_col='Type1',\n",
    "    target_size=(150, 150),\n",
    "    color_mode='rgba',\n",
    "    class_mode='sparse',\n",
    "    batch_size=32,\n",
    "    subset='training'\n",
    ")\n",
    "\n",
    "# create validation set\n",
    "val_data = datagen.flow_from_dataframe(\n",
    "    df,\n",
    "    x_col='Filepath',\n",
    "    y_col='Type1',\n",
    "    target_size=(150, 150),\n",
    "    color_mode='rgba',\n",
    "    class_mode='sparse',\n",
    "    batch_size=32,\n",
    "    subset='validation'\n",
    ")"
   ]
  },
  {
   "cell_type": "code",
   "execution_count": 15,
   "id": "03eec800",
   "metadata": {},
   "outputs": [
    {
     "name": "stdout",
     "output_type": "stream",
     "text": [
      "Epoch 1/10\n",
      "19/19 [==============================] - 12s 577ms/step - loss: 3.0029 - accuracy: 0.1023 - val_loss: 2.8276 - val_accuracy: 0.1319\n",
      "Epoch 2/10\n",
      "19/19 [==============================] - 10s 536ms/step - loss: 2.7098 - accuracy: 0.1664 - val_loss: 2.7159 - val_accuracy: 0.1528\n",
      "Epoch 3/10\n",
      "19/19 [==============================] - 10s 538ms/step - loss: 2.4753 - accuracy: 0.2340 - val_loss: 2.7963 - val_accuracy: 0.1667\n",
      "Epoch 4/10\n",
      "19/19 [==============================] - 10s 538ms/step - loss: 1.9946 - accuracy: 0.3501 - val_loss: 3.2087 - val_accuracy: 0.1319\n",
      "Epoch 5/10\n",
      "19/19 [==============================] - 10s 548ms/step - loss: 1.3547 - accuracy: 0.5858 - val_loss: 3.7648 - val_accuracy: 0.1042\n",
      "Epoch 6/10\n",
      "19/19 [==============================] - 10s 536ms/step - loss: 0.7701 - accuracy: 0.7452 - val_loss: 6.0153 - val_accuracy: 0.1458\n",
      "Epoch 7/10\n",
      "19/19 [==============================] - 10s 520ms/step - loss: 0.3402 - accuracy: 0.8891 - val_loss: 7.3409 - val_accuracy: 0.1111\n",
      "Epoch 8/10\n",
      "19/19 [==============================] - 10s 532ms/step - loss: 0.2086 - accuracy: 0.9411 - val_loss: 7.5532 - val_accuracy: 0.1250\n",
      "Epoch 9/10\n",
      "19/19 [==============================] - 11s 553ms/step - loss: 0.2141 - accuracy: 0.9428 - val_loss: 7.9871 - val_accuracy: 0.1458\n",
      "Epoch 10/10\n",
      "19/19 [==============================] - 10s 542ms/step - loss: 0.2401 - accuracy: 0.9480 - val_loss: 6.1286 - val_accuracy: 0.1389\n"
     ]
    }
   ],
   "source": [
    "# create the CNN model\n",
    "# pretty bad when trying to do all 18 types\n",
    "cnn_model = Sequential([\n",
    "    Conv2D(32, (3, 3), activation='relu', input_shape=(150, 150, 4)),\n",
    "    MaxPooling2D(2, 2),\n",
    "    Conv2D(64, (3, 3), activation='relu', input_shape=(150, 150, 4)),\n",
    "    MaxPooling2D(2, 2),\n",
    "    Conv2D(128, (3, 3), activation='relu', input_shape=(150, 150, 4)),\n",
    "    MaxPooling2D(2, 2),\n",
    "    Flatten(),\n",
    "    Dense(512, activation='relu'),\n",
    "    Dense(18, activation='softmax')\n",
    "])\n",
    "\n",
    "cnn_model.compile(optimizer='adam',\n",
    "                  loss='sparse_categorical_crossentropy',\n",
    "                  metrics=['accuracy'])\n",
    "\n",
    "history = cnn_model.fit(train_data, validation_data=val_data, epochs=10)"
   ]
  },
  {
   "cell_type": "code",
   "execution_count": 16,
   "id": "34ff5a4b",
   "metadata": {},
   "outputs": [
    {
     "data": {
      "image/png": "[encoded data removed]",
      "text/plain": [
       "<Figure size 640x480 with 1 Axes>"
      ]
     },
     "metadata": {},
     "output_type": "display_data"
    }
   ],
   "source": [
    "# plot the training and validation accuracies and the training and validation losses\n",
    "loss = history.history['loss']\n",
    "accuracy = history.history['accuracy']\n",
    "val_loss = history.history['val_loss']\n",
    "val_accuracy = history.history['val_accuracy']\n",
    "epochs = range(len(loss))\n",
    "\n",
    "plt.plot(epochs, accuracy, label='training accuracy')\n",
    "plt.plot(epochs, val_accuracy, label='validation accuracy')\n",
    "plt.plot(epochs, loss, label='training loss')\n",
    "plt.plot(epochs, val_loss, label='validation loss')\n",
    "plt.legend()\n",
    "plt.title('Metrics')\n",
    "plt.show()"
   ]
  },
  {
   "cell_type": "code",
   "execution_count": 17,
   "id": "0f501844",
   "metadata": {},
   "outputs": [
    {
     "name": "stdout",
     "output_type": "stream",
     "text": [
      "Found 122 validated image filenames belonging to 2 classes.\n",
      "Found 30 validated image filenames belonging to 2 classes.\n",
      "Epoch 1/10\n",
      "4/4 [==============================] - 4s 807ms/step - loss: 0.9614 - accuracy: 0.5082 - val_loss: 0.6585 - val_accuracy: 0.6000\n",
      "Epoch 2/10\n",
      "4/4 [==============================] - 3s 703ms/step - loss: 0.5613 - accuracy: 0.7377 - val_loss: 0.7947 - val_accuracy: 0.5667\n",
      "Epoch 3/10\n",
      "4/4 [==============================] - 3s 695ms/step - loss: 0.4754 - accuracy: 0.7213 - val_loss: 0.5694 - val_accuracy: 0.5667\n",
      "Epoch 4/10\n",
      "4/4 [==============================] - 3s 716ms/step - loss: 0.3625 - accuracy: 0.8033 - val_loss: 0.6500 - val_accuracy: 0.5667\n",
      "Epoch 5/10\n",
      "4/4 [==============================] - 3s 718ms/step - loss: 0.3156 - accuracy: 0.8279 - val_loss: 0.4072 - val_accuracy: 0.8667\n",
      "Epoch 6/10\n",
      "4/4 [==============================] - 3s 704ms/step - loss: 0.2762 - accuracy: 0.8770 - val_loss: 0.4590 - val_accuracy: 0.7000\n",
      "Epoch 7/10\n",
      "4/4 [==============================] - 3s 695ms/step - loss: 0.1663 - accuracy: 0.9344 - val_loss: 0.3536 - val_accuracy: 0.8333\n",
      "Epoch 8/10\n",
      "4/4 [==============================] - 3s 701ms/step - loss: 0.2719 - accuracy: 0.8852 - val_loss: 0.6512 - val_accuracy: 0.7000\n",
      "Epoch 9/10\n",
      "4/4 [==============================] - 3s 695ms/step - loss: 0.1199 - accuracy: 0.9672 - val_loss: 0.5040 - val_accuracy: 0.7333\n",
      "Epoch 10/10\n",
      "4/4 [==============================] - 3s 681ms/step - loss: 0.1188 - accuracy: 0.9590 - val_loss: 0.8625 - val_accuracy: 0.6667\n"
     ]
    }
   ],
   "source": [
    "# now filter the data to just Pokemon that are fire and water types for predictions\n",
    "binary_df = df.query(\"Type1 == 'Fire' | Type1 == 'Water'\")\n",
    "\n",
    "# create training set\n",
    "train_data2 = datagen.flow_from_dataframe(\n",
    "    binary_df,\n",
    "    x_col='Filepath',\n",
    "    y_col='Type1',\n",
    "    target_size=(150, 150),\n",
    "    color_mode='rgba',\n",
    "    class_mode='sparse',\n",
    "    batch_size=32,\n",
    "    subset='training'\n",
    ")\n",
    "\n",
    "# create validation set\n",
    "val_data2 = datagen.flow_from_dataframe(\n",
    "    binary_df,\n",
    "    x_col='Filepath',\n",
    "    y_col='Type1',\n",
    "    target_size=(150, 150),\n",
    "    color_mode='rgba',\n",
    "    class_mode='sparse',\n",
    "    batch_size=32,\n",
    "    subset='validation'\n",
    ")\n",
    "\n",
    "cnn_model2 = Sequential([\n",
    "    Conv2D(32, (4, 4), activation='relu', input_shape=(150, 150, 4)),\n",
    "    MaxPooling2D(2, 2),\n",
    "    Conv2D(64, (4, 4), activation='relu', input_shape=(150, 150, 4)),\n",
    "    MaxPooling2D(2, 2),\n",
    "    Conv2D(128, (4, 4), activation='relu', input_shape=(150, 150, 4)),\n",
    "    MaxPooling2D(2, 2),\n",
    "    Flatten(),\n",
    "    Dense(512, activation='relu'),\n",
    "    Dense(1, activation='sigmoid')\n",
    "])\n",
    "\n",
    "cnn_model2.compile(optimizer='adam',\n",
    "                  loss='binary_crossentropy',\n",
    "                  metrics=['accuracy'])\n",
    "\n",
    "history2 = cnn_model2.fit(train_data2, validation_data=val_data2, epochs=10)"
   ]
  },
  {
   "cell_type": "code",
   "execution_count": 18,
   "id": "9fa5549c",
   "metadata": {},
   "outputs": [
    {
     "data": {
      "image/png": "[encoded data removed]",
      "text/plain": [
       "<Figure size 640x480 with 1 Axes>"
      ]
     },
     "metadata": {},
     "output_type": "display_data"
    }
   ],
   "source": [
    "# plot the training and validation accuracies and the training and validation losses\n",
    "loss2 = history2.history['loss']\n",
    "accuracy2 = history2.history['accuracy']\n",
    "val_loss2 = history2.history['val_loss']\n",
    "val_accuracy2 = history2.history['val_accuracy']\n",
    "epochs2 = range(len(loss2))\n",
    "\n",
    "plt.plot(epochs2, accuracy2, label='training accuracy')\n",
    "plt.plot(epochs2, val_accuracy2, label='validation accuracy')\n",
    "plt.plot(epochs2, loss2, label='training loss')\n",
    "plt.plot(epochs2, val_loss2, label='validation loss')\n",
    "plt.legend()\n",
    "plt.title('Metrics')\n",
    "plt.show()"
   ]
  },
  {
   "cell_type": "markdown",
   "id": "143d3171",
   "metadata": {},
   "source": [
    "# KNN with PokeAPI Dataset"
   ]
  },
  {
   "cell_type": "code",
   "execution_count": 45,
   "id": "2b7f92ba",
   "metadata": {},
   "outputs": [],
   "source": [
    "# split the data into training and testing sets\n",
    "X_ratio = pokemon_df_stat_ratios.drop('Type 1', axis=1)\n",
    "y_ratio = pokemon_df_stat_ratios['Type 1']\n",
    "\n",
    "X_train_ratio, X_test_ratio, y_train_ratio, y_test_ratio = train_test_split(X_ratio, y_ratio, test_size=.2, random_state=42)"
   ]
  },
  {
   "cell_type": "code",
   "execution_count": 74,
   "id": "28796e24",
   "metadata": {},
   "outputs": [
    {
     "data": {
      "text/html": [
       "<style>#sk-container-id-8 {color: black;}#sk-container-id-8 pre{padding: 0;}#sk-container-id-8 div.sk-toggleable {background-color: white;}#sk-container-id-8 label.sk-toggleable__label {cursor: pointer;display: block;width: 100%;margin-bottom: 0;padding: 0.3em;box-sizing: border-box;text-align: center;}#sk-container-id-8 label.sk-toggleable__label-arrow:before {content: \"▸\";float: left;margin-right: 0.25em;color: #696969;}#sk-container-id-8 label.sk-toggleable__label-arrow:hover:before {color: black;}#sk-container-id-8 div.sk-estimator:hover label.sk-toggleable__label-arrow:before {color: black;}#sk-container-id-8 div.sk-toggleable__content {max-height: 0;max-width: 0;overflow: hidden;text-align: left;background-color: #f0f8ff;}#sk-container-id-8 div.sk-toggleable__content pre {margin: 0.2em;color: black;border-radius: 0.25em;background-color: #f0f8ff;}#sk-container-id-8 input.sk-toggleable__control:checked~div.sk-toggleable__content {max-height: 200px;max-width: 100%;overflow: auto;}#sk-container-id-8 input.sk-toggleable__control:checked~label.sk-toggleable__label-arrow:before {content: \"▾\";}#sk-container-id-8 div.sk-estimator input.sk-toggleable__control:checked~label.sk-toggleable__label {background-color: #d4ebff;}#sk-container-id-8 div.sk-label input.sk-toggleable__control:checked~label.sk-toggleable__label {background-color: #d4ebff;}#sk-container-id-8 input.sk-hidden--visually {border: 0;clip: rect(1px 1px 1px 1px);clip: rect(1px, 1px, 1px, 1px);height: 1px;margin: -1px;overflow: hidden;padding: 0;position: absolute;width: 1px;}#sk-container-id-8 div.sk-estimator {font-family: monospace;background-color: #f0f8ff;border: 1px dotted black;border-radius: 0.25em;box-sizing: border-box;margin-bottom: 0.5em;}#sk-container-id-8 div.sk-estimator:hover {background-color: #d4ebff;}#sk-container-id-8 div.sk-parallel-item::after {content: \"\";width: 100%;border-bottom: 1px solid gray;flex-grow: 1;}#sk-container-id-8 div.sk-label:hover label.sk-toggleable__label {background-color: #d4ebff;}#sk-container-id-8 div.sk-serial::before {content: \"\";position: absolute;border-left: 1px solid gray;box-sizing: border-box;top: 0;bottom: 0;left: 50%;z-index: 0;}#sk-container-id-8 div.sk-serial {display: flex;flex-direction: column;align-items: center;background-color: white;padding-right: 0.2em;padding-left: 0.2em;position: relative;}#sk-container-id-8 div.sk-item {position: relative;z-index: 1;}#sk-container-id-8 div.sk-parallel {display: flex;align-items: stretch;justify-content: center;background-color: white;position: relative;}#sk-container-id-8 div.sk-item::before, #sk-container-id-8 div.sk-parallel-item::before {content: \"\";position: absolute;border-left: 1px solid gray;box-sizing: border-box;top: 0;bottom: 0;left: 50%;z-index: -1;}#sk-container-id-8 div.sk-parallel-item {display: flex;flex-direction: column;z-index: 1;position: relative;background-color: white;}#sk-container-id-8 div.sk-parallel-item:first-child::after {align-self: flex-end;width: 50%;}#sk-container-id-8 div.sk-parallel-item:last-child::after {align-self: flex-start;width: 50%;}#sk-container-id-8 div.sk-parallel-item:only-child::after {width: 0;}#sk-container-id-8 div.sk-dashed-wrapped {border: 1px dashed gray;margin: 0 0.4em 0.5em 0.4em;box-sizing: border-box;padding-bottom: 0.4em;background-color: white;}#sk-container-id-8 div.sk-label label {font-family: monospace;font-weight: bold;display: inline-block;line-height: 1.2em;}#sk-container-id-8 div.sk-label-container {text-align: center;}#sk-container-id-8 div.sk-container {/* jupyter's `normalize.less` sets `[hidden] { display: none; }` but bootstrap.min.css set `[hidden] { display: none !important; }` so we also need the `!important` here to be able to override the default hidden behavior on the sphinx rendered scikit-learn.org. See: https://github.com/scikit-learn/scikit-learn/issues/21755 */display: inline-block !important;position: relative;}#sk-container-id-8 div.sk-text-repr-fallback {display: none;}</style><div id=\"sk-container-id-8\" class=\"sk-top-container\"><div class=\"sk-text-repr-fallback\"><pre>KNeighborsClassifier()</pre><b>In a Jupyter environment, please rerun this cell to show the HTML representation or trust the notebook. <br />On GitHub, the HTML representation is unable to render, please try loading this page with nbviewer.org.</b></div><div class=\"sk-container\" hidden><div class=\"sk-item\"><div class=\"sk-estimator sk-toggleable\"><input class=\"sk-toggleable__control sk-hidden--visually\" id=\"sk-estimator-id-12\" type=\"checkbox\" checked><label for=\"sk-estimator-id-12\" class=\"sk-toggleable__label sk-toggleable__label-arrow\">KNeighborsClassifier</label><div class=\"sk-toggleable__content\"><pre>KNeighborsClassifier()</pre></div></div></div></div></div>"
      ],
      "text/plain": [
       "KNeighborsClassifier()"
      ]
     },
     "execution_count": 74,
     "metadata": {},
     "output_type": "execute_result"
    }
   ],
   "source": [
    "from sklearn.neighbors import KNeighborsClassifier\n",
    "from sklearn.metrics import accuracy_score, precision_score, recall_score\n",
    "\n",
    "# create and fit KNN model\n",
    "knn_ratio_df = KNeighborsClassifier()\n",
    "knn_ratio_df.fit(X_train_ratio, y_train_ratio)"
   ]
  },
  {
   "cell_type": "code",
   "execution_count": 53,
   "id": "9e922647",
   "metadata": {},
   "outputs": [
    {
     "name": "stdout",
     "output_type": "stream",
     "text": [
      "Training accuracy: 0.46905940594059403\n",
      "Testing accuracy: 0.22772277227722773\n",
      "Training precision: 0.5043572889488037\n",
      "Testing precision: 0.26518549428111804\n",
      "Training recall: 0.4366251267534418\n",
      "Testing recall: 0.20553506353944953\n"
     ]
    },
    {
     "name": "stderr",
     "output_type": "stream",
     "text": [
      "C:\\ProgramData\\anaconda3\\Lib\\site-packages\\sklearn\\metrics\\_classification.py:1469: UndefinedMetricWarning: Precision is ill-defined and being set to 0.0 in labels with no predicted samples. Use `zero_division` parameter to control this behavior.\n",
      "  _warn_prf(average, modifier, msg_start, len(result))\n"
     ]
    }
   ],
   "source": [
    "# get accuracy, precision, and recall scores\n",
    "yhat_train_knn = knn_ratio_df.predict(X_train_ratio)\n",
    "yhat_test_knn = knn_ratio_df.predict(X_test_ratio)\n",
    "print('Training accuracy:', accuracy_score(y_train_ratio, yhat_train_knn))\n",
    "print('Testing accuracy:', accuracy_score(y_test_ratio, yhat_test_knn))\n",
    "\n",
    "print('Training precision:', precision_score(y_train_ratio, yhat_train_knn, average='macro'))\n",
    "print('Testing precision:', precision_score(y_test_ratio, yhat_test_knn, average='macro'))\n",
    "\n",
    "print('Training recall:', recall_score(y_train_ratio, yhat_train_knn, average='macro'))\n",
    "print('Testing recall:', recall_score(y_test_ratio, yhat_test_knn, average='macro'))"
   ]
  },
  {
   "cell_type": "markdown",
   "id": "4c1360f7",
   "metadata": {},
   "source": [
    "# Decision Trees with PokeAPI Dataset"
   ]
  },
  {
   "cell_type": "code",
   "execution_count": 75,
   "id": "38c7c587",
   "metadata": {},
   "outputs": [
    {
     "data": {
      "text/html": [
       "<style>#sk-container-id-9 {color: black;}#sk-container-id-9 pre{padding: 0;}#sk-container-id-9 div.sk-toggleable {background-color: white;}#sk-container-id-9 label.sk-toggleable__label {cursor: pointer;display: block;width: 100%;margin-bottom: 0;padding: 0.3em;box-sizing: border-box;text-align: center;}#sk-container-id-9 label.sk-toggleable__label-arrow:before {content: \"▸\";float: left;margin-right: 0.25em;color: #696969;}#sk-container-id-9 label.sk-toggleable__label-arrow:hover:before {color: black;}#sk-container-id-9 div.sk-estimator:hover label.sk-toggleable__label-arrow:before {color: black;}#sk-container-id-9 div.sk-toggleable__content {max-height: 0;max-width: 0;overflow: hidden;text-align: left;background-color: #f0f8ff;}#sk-container-id-9 div.sk-toggleable__content pre {margin: 0.2em;color: black;border-radius: 0.25em;background-color: #f0f8ff;}#sk-container-id-9 input.sk-toggleable__control:checked~div.sk-toggleable__content {max-height: 200px;max-width: 100%;overflow: auto;}#sk-container-id-9 input.sk-toggleable__control:checked~label.sk-toggleable__label-arrow:before {content: \"▾\";}#sk-container-id-9 div.sk-estimator input.sk-toggleable__control:checked~label.sk-toggleable__label {background-color: #d4ebff;}#sk-container-id-9 div.sk-label input.sk-toggleable__control:checked~label.sk-toggleable__label {background-color: #d4ebff;}#sk-container-id-9 input.sk-hidden--visually {border: 0;clip: rect(1px 1px 1px 1px);clip: rect(1px, 1px, 1px, 1px);height: 1px;margin: -1px;overflow: hidden;padding: 0;position: absolute;width: 1px;}#sk-container-id-9 div.sk-estimator {font-family: monospace;background-color: #f0f8ff;border: 1px dotted black;border-radius: 0.25em;box-sizing: border-box;margin-bottom: 0.5em;}#sk-container-id-9 div.sk-estimator:hover {background-color: #d4ebff;}#sk-container-id-9 div.sk-parallel-item::after {content: \"\";width: 100%;border-bottom: 1px solid gray;flex-grow: 1;}#sk-container-id-9 div.sk-label:hover label.sk-toggleable__label {background-color: #d4ebff;}#sk-container-id-9 div.sk-serial::before {content: \"\";position: absolute;border-left: 1px solid gray;box-sizing: border-box;top: 0;bottom: 0;left: 50%;z-index: 0;}#sk-container-id-9 div.sk-serial {display: flex;flex-direction: column;align-items: center;background-color: white;padding-right: 0.2em;padding-left: 0.2em;position: relative;}#sk-container-id-9 div.sk-item {position: relative;z-index: 1;}#sk-container-id-9 div.sk-parallel {display: flex;align-items: stretch;justify-content: center;background-color: white;position: relative;}#sk-container-id-9 div.sk-item::before, #sk-container-id-9 div.sk-parallel-item::before {content: \"\";position: absolute;border-left: 1px solid gray;box-sizing: border-box;top: 0;bottom: 0;left: 50%;z-index: -1;}#sk-container-id-9 div.sk-parallel-item {display: flex;flex-direction: column;z-index: 1;position: relative;background-color: white;}#sk-container-id-9 div.sk-parallel-item:first-child::after {align-self: flex-end;width: 50%;}#sk-container-id-9 div.sk-parallel-item:last-child::after {align-self: flex-start;width: 50%;}#sk-container-id-9 div.sk-parallel-item:only-child::after {width: 0;}#sk-container-id-9 div.sk-dashed-wrapped {border: 1px dashed gray;margin: 0 0.4em 0.5em 0.4em;box-sizing: border-box;padding-bottom: 0.4em;background-color: white;}#sk-container-id-9 div.sk-label label {font-family: monospace;font-weight: bold;display: inline-block;line-height: 1.2em;}#sk-container-id-9 div.sk-label-container {text-align: center;}#sk-container-id-9 div.sk-container {/* jupyter's `normalize.less` sets `[hidden] { display: none; }` but bootstrap.min.css set `[hidden] { display: none !important; }` so we also need the `!important` here to be able to override the default hidden behavior on the sphinx rendered scikit-learn.org. See: https://github.com/scikit-learn/scikit-learn/issues/21755 */display: inline-block !important;position: relative;}#sk-container-id-9 div.sk-text-repr-fallback {display: none;}</style><div id=\"sk-container-id-9\" class=\"sk-top-container\"><div class=\"sk-text-repr-fallback\"><pre>DecisionTreeClassifier()</pre><b>In a Jupyter environment, please rerun this cell to show the HTML representation or trust the notebook. <br />On GitHub, the HTML representation is unable to render, please try loading this page with nbviewer.org.</b></div><div class=\"sk-container\" hidden><div class=\"sk-item\"><div class=\"sk-estimator sk-toggleable\"><input class=\"sk-toggleable__control sk-hidden--visually\" id=\"sk-estimator-id-13\" type=\"checkbox\" checked><label for=\"sk-estimator-id-13\" class=\"sk-toggleable__label sk-toggleable__label-arrow\">DecisionTreeClassifier</label><div class=\"sk-toggleable__content\"><pre>DecisionTreeClassifier()</pre></div></div></div></div></div>"
      ],
      "text/plain": [
       "DecisionTreeClassifier()"
      ]
     },
     "execution_count": 75,
     "metadata": {},
     "output_type": "execute_result"
    }
   ],
   "source": [
    "from sklearn.tree import DecisionTreeClassifier\n",
    "\n",
    "# create and fit a decision tree model\n",
    "dt_ratio_df = DecisionTreeClassifier()\n",
    "dt_ratio_df.fit(X_train_ratio, y_train_ratio)"
   ]
  },
  {
   "cell_type": "code",
   "execution_count": 58,
   "id": "17905f95",
   "metadata": {},
   "outputs": [
    {
     "name": "stdout",
     "output_type": "stream",
     "text": [
      "Training accuracy: 0.9789603960396039\n",
      "Testing accuracy: 0.18316831683168316\n",
      "Training precision: 0.9862301733646763\n",
      "Testing precision: 0.16469809971271956\n",
      "Training recall: 0.975336831513732\n",
      "Testing recall: 0.15899970318829967\n"
     ]
    }
   ],
   "source": [
    "# get accuracy, precision, and recall scores\n",
    "yhat_train_dt = dt_ratio_df.predict(X_train_ratio)\n",
    "yhat_test_dt = dt_ratio_df.predict(X_test_ratio)\n",
    "print('Training accuracy:', accuracy_score(y_train_ratio, yhat_train_dt))\n",
    "print('Testing accuracy:', accuracy_score(y_test_ratio, yhat_test_dt))\n",
    "\n",
    "print('Training precision:', precision_score(y_train_ratio, yhat_train_dt, average='macro'))\n",
    "print('Testing precision:', precision_score(y_test_ratio, yhat_test_dt, average='macro'))\n",
    "\n",
    "print('Training recall:', recall_score(y_train_ratio, yhat_train_dt, average='macro'))\n",
    "print('Testing recall:', recall_score(y_test_ratio, yhat_test_dt, average='macro'))"
   ]
  },
  {
   "cell_type": "markdown",
   "id": "3e0bf93e",
   "metadata": {},
   "source": [
    "# Random Forests with PokeAPI Dataset"
   ]
  },
  {
   "cell_type": "code",
   "execution_count": 64,
   "id": "7a395979",
   "metadata": {},
   "outputs": [
    {
     "name": "stderr",
     "output_type": "stream",
     "text": [
      "C:\\ProgramData\\anaconda3\\Lib\\site-packages\\sklearn\\model_selection\\_split.py:725: UserWarning: The least populated class in y has only 8 members, which is less than n_splits=10.\n",
      "  warnings.warn(\n"
     ]
    },
    {
     "data": {
      "text/html": [
       "<style>#sk-container-id-5 {color: black;}#sk-container-id-5 pre{padding: 0;}#sk-container-id-5 div.sk-toggleable {background-color: white;}#sk-container-id-5 label.sk-toggleable__label {cursor: pointer;display: block;width: 100%;margin-bottom: 0;padding: 0.3em;box-sizing: border-box;text-align: center;}#sk-container-id-5 label.sk-toggleable__label-arrow:before {content: \"▸\";float: left;margin-right: 0.25em;color: #696969;}#sk-container-id-5 label.sk-toggleable__label-arrow:hover:before {color: black;}#sk-container-id-5 div.sk-estimator:hover label.sk-toggleable__label-arrow:before {color: black;}#sk-container-id-5 div.sk-toggleable__content {max-height: 0;max-width: 0;overflow: hidden;text-align: left;background-color: #f0f8ff;}#sk-container-id-5 div.sk-toggleable__content pre {margin: 0.2em;color: black;border-radius: 0.25em;background-color: #f0f8ff;}#sk-container-id-5 input.sk-toggleable__control:checked~div.sk-toggleable__content {max-height: 200px;max-width: 100%;overflow: auto;}#sk-container-id-5 input.sk-toggleable__control:checked~label.sk-toggleable__label-arrow:before {content: \"▾\";}#sk-container-id-5 div.sk-estimator input.sk-toggleable__control:checked~label.sk-toggleable__label {background-color: #d4ebff;}#sk-container-id-5 div.sk-label input.sk-toggleable__control:checked~label.sk-toggleable__label {background-color: #d4ebff;}#sk-container-id-5 input.sk-hidden--visually {border: 0;clip: rect(1px 1px 1px 1px);clip: rect(1px, 1px, 1px, 1px);height: 1px;margin: -1px;overflow: hidden;padding: 0;position: absolute;width: 1px;}#sk-container-id-5 div.sk-estimator {font-family: monospace;background-color: #f0f8ff;border: 1px dotted black;border-radius: 0.25em;box-sizing: border-box;margin-bottom: 0.5em;}#sk-container-id-5 div.sk-estimator:hover {background-color: #d4ebff;}#sk-container-id-5 div.sk-parallel-item::after {content: \"\";width: 100%;border-bottom: 1px solid gray;flex-grow: 1;}#sk-container-id-5 div.sk-label:hover label.sk-toggleable__label {background-color: #d4ebff;}#sk-container-id-5 div.sk-serial::before {content: \"\";position: absolute;border-left: 1px solid gray;box-sizing: border-box;top: 0;bottom: 0;left: 50%;z-index: 0;}#sk-container-id-5 div.sk-serial {display: flex;flex-direction: column;align-items: center;background-color: white;padding-right: 0.2em;padding-left: 0.2em;position: relative;}#sk-container-id-5 div.sk-item {position: relative;z-index: 1;}#sk-container-id-5 div.sk-parallel {display: flex;align-items: stretch;justify-content: center;background-color: white;position: relative;}#sk-container-id-5 div.sk-item::before, #sk-container-id-5 div.sk-parallel-item::before {content: \"\";position: absolute;border-left: 1px solid gray;box-sizing: border-box;top: 0;bottom: 0;left: 50%;z-index: -1;}#sk-container-id-5 div.sk-parallel-item {display: flex;flex-direction: column;z-index: 1;position: relative;background-color: white;}#sk-container-id-5 div.sk-parallel-item:first-child::after {align-self: flex-end;width: 50%;}#sk-container-id-5 div.sk-parallel-item:last-child::after {align-self: flex-start;width: 50%;}#sk-container-id-5 div.sk-parallel-item:only-child::after {width: 0;}#sk-container-id-5 div.sk-dashed-wrapped {border: 1px dashed gray;margin: 0 0.4em 0.5em 0.4em;box-sizing: border-box;padding-bottom: 0.4em;background-color: white;}#sk-container-id-5 div.sk-label label {font-family: monospace;font-weight: bold;display: inline-block;line-height: 1.2em;}#sk-container-id-5 div.sk-label-container {text-align: center;}#sk-container-id-5 div.sk-container {/* jupyter's `normalize.less` sets `[hidden] { display: none; }` but bootstrap.min.css set `[hidden] { display: none !important; }` so we also need the `!important` here to be able to override the default hidden behavior on the sphinx rendered scikit-learn.org. See: https://github.com/scikit-learn/scikit-learn/issues/21755 */display: inline-block !important;position: relative;}#sk-container-id-5 div.sk-text-repr-fallback {display: none;}</style><div id=\"sk-container-id-5\" class=\"sk-top-container\"><div class=\"sk-text-repr-fallback\"><pre>GridSearchCV(cv=10,\n",
       "             estimator=Pipeline(steps=[(&#x27;random_forest&#x27;,\n",
       "                                        RandomForestClassifier())]),\n",
       "             param_grid={&#x27;random_forest__criterion&#x27;: [&#x27;gini&#x27;, &#x27;entropy&#x27;,\n",
       "                                                      &#x27;log_loss&#x27;],\n",
       "                         &#x27;random_forest__max_depth&#x27;: [5, 6, 7, 8, 9, 10, 11, 12,\n",
       "                                                      13, 14, 15],\n",
       "                         &#x27;random_forest__max_features&#x27;: [&#x27;sqrt&#x27;, &#x27;log2&#x27;],\n",
       "                         &#x27;random_forest__n_estimators&#x27;: [60, 80, 100, 120, 140,\n",
       "                                                         160]})</pre><b>In a Jupyter environment, please rerun this cell to show the HTML representation or trust the notebook. <br />On GitHub, the HTML representation is unable to render, please try loading this page with nbviewer.org.</b></div><div class=\"sk-container\" hidden><div class=\"sk-item sk-dashed-wrapped\"><div class=\"sk-label-container\"><div class=\"sk-label sk-toggleable\"><input class=\"sk-toggleable__control sk-hidden--visually\" id=\"sk-estimator-id-5\" type=\"checkbox\" ><label for=\"sk-estimator-id-5\" class=\"sk-toggleable__label sk-toggleable__label-arrow\">GridSearchCV</label><div class=\"sk-toggleable__content\"><pre>GridSearchCV(cv=10,\n",
       "             estimator=Pipeline(steps=[(&#x27;random_forest&#x27;,\n",
       "                                        RandomForestClassifier())]),\n",
       "             param_grid={&#x27;random_forest__criterion&#x27;: [&#x27;gini&#x27;, &#x27;entropy&#x27;,\n",
       "                                                      &#x27;log_loss&#x27;],\n",
       "                         &#x27;random_forest__max_depth&#x27;: [5, 6, 7, 8, 9, 10, 11, 12,\n",
       "                                                      13, 14, 15],\n",
       "                         &#x27;random_forest__max_features&#x27;: [&#x27;sqrt&#x27;, &#x27;log2&#x27;],\n",
       "                         &#x27;random_forest__n_estimators&#x27;: [60, 80, 100, 120, 140,\n",
       "                                                         160]})</pre></div></div></div><div class=\"sk-parallel\"><div class=\"sk-parallel-item\"><div class=\"sk-item\"><div class=\"sk-label-container\"><div class=\"sk-label sk-toggleable\"><input class=\"sk-toggleable__control sk-hidden--visually\" id=\"sk-estimator-id-6\" type=\"checkbox\" ><label for=\"sk-estimator-id-6\" class=\"sk-toggleable__label sk-toggleable__label-arrow\">estimator: Pipeline</label><div class=\"sk-toggleable__content\"><pre>Pipeline(steps=[(&#x27;random_forest&#x27;, RandomForestClassifier())])</pre></div></div></div><div class=\"sk-serial\"><div class=\"sk-item\"><div class=\"sk-serial\"><div class=\"sk-item\"><div class=\"sk-estimator sk-toggleable\"><input class=\"sk-toggleable__control sk-hidden--visually\" id=\"sk-estimator-id-7\" type=\"checkbox\" ><label for=\"sk-estimator-id-7\" class=\"sk-toggleable__label sk-toggleable__label-arrow\">RandomForestClassifier</label><div class=\"sk-toggleable__content\"><pre>RandomForestClassifier()</pre></div></div></div></div></div></div></div></div></div></div></div></div>"
      ],
      "text/plain": [
       "GridSearchCV(cv=10,\n",
       "             estimator=Pipeline(steps=[('random_forest',\n",
       "                                        RandomForestClassifier())]),\n",
       "             param_grid={'random_forest__criterion': ['gini', 'entropy',\n",
       "                                                      'log_loss'],\n",
       "                         'random_forest__max_depth': [5, 6, 7, 8, 9, 10, 11, 12,\n",
       "                                                      13, 14, 15],\n",
       "                         'random_forest__max_features': ['sqrt', 'log2'],\n",
       "                         'random_forest__n_estimators': [60, 80, 100, 120, 140,\n",
       "                                                         160]})"
      ]
     },
     "execution_count": 64,
     "metadata": {},
     "output_type": "execute_result"
    }
   ],
   "source": [
    "from sklearn.ensemble import RandomForestClassifier\n",
    "from sklearn.model_selection import GridSearchCV\n",
    "from sklearn.pipeline import Pipeline\n",
    "\n",
    "# create a pipeline\n",
    "rf_pipeline = Pipeline([\n",
    "    ('random_forest', RandomForestClassifier())\n",
    "])\n",
    "\n",
    "# assign different values to tuning parameters\n",
    "rf_params = {'random_forest__max_depth': [i for i in range(5, 16)],\n",
    "         'random_forest__n_estimators': [i for i in range(60, 161, 20)],\n",
    "         'random_forest__criterion': ['gini', 'entropy', 'log_loss'],\n",
    "         'random_forest__max_features': ['sqrt', 'log2']}\n",
    "\n",
    "# do a grid search and fit the model\n",
    "grid_search = GridSearchCV(rf_pipeline, param_grid=rf_params, cv=10)\n",
    "grid_search.fit(X_train_ratio, y_train_ratio)"
   ]
  },
  {
   "cell_type": "code",
   "execution_count": 65,
   "id": "f0495c44",
   "metadata": {},
   "outputs": [
    {
     "data": {
      "text/plain": [
       "{'random_forest__criterion': 'entropy',\n",
       " 'random_forest__max_depth': 7,\n",
       " 'random_forest__max_features': 'log2',\n",
       " 'random_forest__n_estimators': 60}"
      ]
     },
     "execution_count": 65,
     "metadata": {},
     "output_type": "execute_result"
    }
   ],
   "source": [
    "# get the best parameters\n",
    "grid_search.best_params_"
   ]
  },
  {
   "cell_type": "code",
   "execution_count": 84,
   "id": "defdfa36",
   "metadata": {},
   "outputs": [
    {
     "data": {
      "text/html": [
       "<style>#sk-container-id-13 {color: black;}#sk-container-id-13 pre{padding: 0;}#sk-container-id-13 div.sk-toggleable {background-color: white;}#sk-container-id-13 label.sk-toggleable__label {cursor: pointer;display: block;width: 100%;margin-bottom: 0;padding: 0.3em;box-sizing: border-box;text-align: center;}#sk-container-id-13 label.sk-toggleable__label-arrow:before {content: \"▸\";float: left;margin-right: 0.25em;color: #696969;}#sk-container-id-13 label.sk-toggleable__label-arrow:hover:before {color: black;}#sk-container-id-13 div.sk-estimator:hover label.sk-toggleable__label-arrow:before {color: black;}#sk-container-id-13 div.sk-toggleable__content {max-height: 0;max-width: 0;overflow: hidden;text-align: left;background-color: #f0f8ff;}#sk-container-id-13 div.sk-toggleable__content pre {margin: 0.2em;color: black;border-radius: 0.25em;background-color: #f0f8ff;}#sk-container-id-13 input.sk-toggleable__control:checked~div.sk-toggleable__content {max-height: 200px;max-width: 100%;overflow: auto;}#sk-container-id-13 input.sk-toggleable__control:checked~label.sk-toggleable__label-arrow:before {content: \"▾\";}#sk-container-id-13 div.sk-estimator input.sk-toggleable__control:checked~label.sk-toggleable__label {background-color: #d4ebff;}#sk-container-id-13 div.sk-label input.sk-toggleable__control:checked~label.sk-toggleable__label {background-color: #d4ebff;}#sk-container-id-13 input.sk-hidden--visually {border: 0;clip: rect(1px 1px 1px 1px);clip: rect(1px, 1px, 1px, 1px);height: 1px;margin: -1px;overflow: hidden;padding: 0;position: absolute;width: 1px;}#sk-container-id-13 div.sk-estimator {font-family: monospace;background-color: #f0f8ff;border: 1px dotted black;border-radius: 0.25em;box-sizing: border-box;margin-bottom: 0.5em;}#sk-container-id-13 div.sk-estimator:hover {background-color: #d4ebff;}#sk-container-id-13 div.sk-parallel-item::after {content: \"\";width: 100%;border-bottom: 1px solid gray;flex-grow: 1;}#sk-container-id-13 div.sk-label:hover label.sk-toggleable__label {background-color: #d4ebff;}#sk-container-id-13 div.sk-serial::before {content: \"\";position: absolute;border-left: 1px solid gray;box-sizing: border-box;top: 0;bottom: 0;left: 50%;z-index: 0;}#sk-container-id-13 div.sk-serial {display: flex;flex-direction: column;align-items: center;background-color: white;padding-right: 0.2em;padding-left: 0.2em;position: relative;}#sk-container-id-13 div.sk-item {position: relative;z-index: 1;}#sk-container-id-13 div.sk-parallel {display: flex;align-items: stretch;justify-content: center;background-color: white;position: relative;}#sk-container-id-13 div.sk-item::before, #sk-container-id-13 div.sk-parallel-item::before {content: \"\";position: absolute;border-left: 1px solid gray;box-sizing: border-box;top: 0;bottom: 0;left: 50%;z-index: -1;}#sk-container-id-13 div.sk-parallel-item {display: flex;flex-direction: column;z-index: 1;position: relative;background-color: white;}#sk-container-id-13 div.sk-parallel-item:first-child::after {align-self: flex-end;width: 50%;}#sk-container-id-13 div.sk-parallel-item:last-child::after {align-self: flex-start;width: 50%;}#sk-container-id-13 div.sk-parallel-item:only-child::after {width: 0;}#sk-container-id-13 div.sk-dashed-wrapped {border: 1px dashed gray;margin: 0 0.4em 0.5em 0.4em;box-sizing: border-box;padding-bottom: 0.4em;background-color: white;}#sk-container-id-13 div.sk-label label {font-family: monospace;font-weight: bold;display: inline-block;line-height: 1.2em;}#sk-container-id-13 div.sk-label-container {text-align: center;}#sk-container-id-13 div.sk-container {/* jupyter's `normalize.less` sets `[hidden] { display: none; }` but bootstrap.min.css set `[hidden] { display: none !important; }` so we also need the `!important` here to be able to override the default hidden behavior on the sphinx rendered scikit-learn.org. See: https://github.com/scikit-learn/scikit-learn/issues/21755 */display: inline-block !important;position: relative;}#sk-container-id-13 div.sk-text-repr-fallback {display: none;}</style><div id=\"sk-container-id-13\" class=\"sk-top-container\"><div class=\"sk-text-repr-fallback\"><pre>RandomForestClassifier(criterion=&#x27;entropy&#x27;, max_depth=7, max_features=&#x27;log2&#x27;,\n",
       "                       n_estimators=60)</pre><b>In a Jupyter environment, please rerun this cell to show the HTML representation or trust the notebook. <br />On GitHub, the HTML representation is unable to render, please try loading this page with nbviewer.org.</b></div><div class=\"sk-container\" hidden><div class=\"sk-item\"><div class=\"sk-estimator sk-toggleable\"><input class=\"sk-toggleable__control sk-hidden--visually\" id=\"sk-estimator-id-20\" type=\"checkbox\" checked><label for=\"sk-estimator-id-20\" class=\"sk-toggleable__label sk-toggleable__label-arrow\">RandomForestClassifier</label><div class=\"sk-toggleable__content\"><pre>RandomForestClassifier(criterion=&#x27;entropy&#x27;, max_depth=7, max_features=&#x27;log2&#x27;,\n",
       "                       n_estimators=60)</pre></div></div></div></div></div>"
      ],
      "text/plain": [
       "RandomForestClassifier(criterion='entropy', max_depth=7, max_features='log2',\n",
       "                       n_estimators=60)"
      ]
     },
     "execution_count": 84,
     "metadata": {},
     "output_type": "execute_result"
    }
   ],
   "source": [
    "# create a model with the best parameter values\n",
    "best_params_rf = RandomForestClassifier(max_depth=7, criterion='entropy', max_features='log2', n_estimators=60)\n",
    "best_params_rf.fit(X_train_ratio, y_train_ratio)"
   ]
  },
  {
   "cell_type": "code",
   "execution_count": 88,
   "id": "012488d2",
   "metadata": {},
   "outputs": [
    {
     "name": "stdout",
     "output_type": "stream",
     "text": [
      "Training accuracy: 0.8514851485148515\n",
      "Testing accuracy: 0.26732673267326734\n",
      "Training precision: 0.9233500722708224\n",
      "Testing precision: 0.33064950507526386\n",
      "Training recall: 0.8183750136865423\n",
      "Testing recall: 0.22197613951999917\n"
     ]
    },
    {
     "name": "stderr",
     "output_type": "stream",
     "text": [
      "C:\\ProgramData\\anaconda3\\Lib\\site-packages\\sklearn\\metrics\\_classification.py:1469: UndefinedMetricWarning: Precision is ill-defined and being set to 0.0 in labels with no predicted samples. Use `zero_division` parameter to control this behavior.\n",
      "  _warn_prf(average, modifier, msg_start, len(result))\n"
     ]
    }
   ],
   "source": [
    "# get accuracy, precision, and recall scores\n",
    "yhat_train_rf = rf_best_params_pipeline.predict(X_train_ratio)\n",
    "yhat_test_rf = rf_best_params_pipeline.predict(X_test_ratio)\n",
    "\n",
    "print('Training accuracy:', accuracy_score(y_train_ratio, yhat_train_rf))\n",
    "print('Testing accuracy:', accuracy_score(y_test_ratio, yhat_test_rf))\n",
    "\n",
    "print('Training precision:', precision_score(y_train_ratio, yhat_train_rf, average='macro'))\n",
    "print('Testing precision:', precision_score(y_test_ratio, yhat_test_rf, average='macro'))\n",
    "\n",
    "print('Training recall:', recall_score(y_train_ratio, yhat_train_rf, average='macro'))\n",
    "print('Testing recall:', recall_score(y_test_ratio, yhat_test_rf, average='macro'))"
   ]
  },
  {
   "cell_type": "markdown",
   "id": "c6de780f",
   "metadata": {},
   "source": [
    "# Ensemble Model with KNN, Decision Trees, and Random Forests with PokeAPI Dataset"
   ]
  },
  {
   "cell_type": "code",
   "execution_count": 85,
   "id": "0bfceae5",
   "metadata": {},
   "outputs": [
    {
     "data": {
      "text/html": [
       "<style>#sk-container-id-14 {color: black;}#sk-container-id-14 pre{padding: 0;}#sk-container-id-14 div.sk-toggleable {background-color: white;}#sk-container-id-14 label.sk-toggleable__label {cursor: pointer;display: block;width: 100%;margin-bottom: 0;padding: 0.3em;box-sizing: border-box;text-align: center;}#sk-container-id-14 label.sk-toggleable__label-arrow:before {content: \"▸\";float: left;margin-right: 0.25em;color: #696969;}#sk-container-id-14 label.sk-toggleable__label-arrow:hover:before {color: black;}#sk-container-id-14 div.sk-estimator:hover label.sk-toggleable__label-arrow:before {color: black;}#sk-container-id-14 div.sk-toggleable__content {max-height: 0;max-width: 0;overflow: hidden;text-align: left;background-color: #f0f8ff;}#sk-container-id-14 div.sk-toggleable__content pre {margin: 0.2em;color: black;border-radius: 0.25em;background-color: #f0f8ff;}#sk-container-id-14 input.sk-toggleable__control:checked~div.sk-toggleable__content {max-height: 200px;max-width: 100%;overflow: auto;}#sk-container-id-14 input.sk-toggleable__control:checked~label.sk-toggleable__label-arrow:before {content: \"▾\";}#sk-container-id-14 div.sk-estimator input.sk-toggleable__control:checked~label.sk-toggleable__label {background-color: #d4ebff;}#sk-container-id-14 div.sk-label input.sk-toggleable__control:checked~label.sk-toggleable__label {background-color: #d4ebff;}#sk-container-id-14 input.sk-hidden--visually {border: 0;clip: rect(1px 1px 1px 1px);clip: rect(1px, 1px, 1px, 1px);height: 1px;margin: -1px;overflow: hidden;padding: 0;position: absolute;width: 1px;}#sk-container-id-14 div.sk-estimator {font-family: monospace;background-color: #f0f8ff;border: 1px dotted black;border-radius: 0.25em;box-sizing: border-box;margin-bottom: 0.5em;}#sk-container-id-14 div.sk-estimator:hover {background-color: #d4ebff;}#sk-container-id-14 div.sk-parallel-item::after {content: \"\";width: 100%;border-bottom: 1px solid gray;flex-grow: 1;}#sk-container-id-14 div.sk-label:hover label.sk-toggleable__label {background-color: #d4ebff;}#sk-container-id-14 div.sk-serial::before {content: \"\";position: absolute;border-left: 1px solid gray;box-sizing: border-box;top: 0;bottom: 0;left: 50%;z-index: 0;}#sk-container-id-14 div.sk-serial {display: flex;flex-direction: column;align-items: center;background-color: white;padding-right: 0.2em;padding-left: 0.2em;position: relative;}#sk-container-id-14 div.sk-item {position: relative;z-index: 1;}#sk-container-id-14 div.sk-parallel {display: flex;align-items: stretch;justify-content: center;background-color: white;position: relative;}#sk-container-id-14 div.sk-item::before, #sk-container-id-14 div.sk-parallel-item::before {content: \"\";position: absolute;border-left: 1px solid gray;box-sizing: border-box;top: 0;bottom: 0;left: 50%;z-index: -1;}#sk-container-id-14 div.sk-parallel-item {display: flex;flex-direction: column;z-index: 1;position: relative;background-color: white;}#sk-container-id-14 div.sk-parallel-item:first-child::after {align-self: flex-end;width: 50%;}#sk-container-id-14 div.sk-parallel-item:last-child::after {align-self: flex-start;width: 50%;}#sk-container-id-14 div.sk-parallel-item:only-child::after {width: 0;}#sk-container-id-14 div.sk-dashed-wrapped {border: 1px dashed gray;margin: 0 0.4em 0.5em 0.4em;box-sizing: border-box;padding-bottom: 0.4em;background-color: white;}#sk-container-id-14 div.sk-label label {font-family: monospace;font-weight: bold;display: inline-block;line-height: 1.2em;}#sk-container-id-14 div.sk-label-container {text-align: center;}#sk-container-id-14 div.sk-container {/* jupyter's `normalize.less` sets `[hidden] { display: none; }` but bootstrap.min.css set `[hidden] { display: none !important; }` so we also need the `!important` here to be able to override the default hidden behavior on the sphinx rendered scikit-learn.org. See: https://github.com/scikit-learn/scikit-learn/issues/21755 */display: inline-block !important;position: relative;}#sk-container-id-14 div.sk-text-repr-fallback {display: none;}</style><div id=\"sk-container-id-14\" class=\"sk-top-container\"><div class=\"sk-text-repr-fallback\"><pre>GridSearchCV(cv=5,\n",
       "             estimator=VotingClassifier(estimators=[(&#x27;knn&#x27;,\n",
       "                                                     KNeighborsClassifier()),\n",
       "                                                    (&#x27;dt&#x27;,\n",
       "                                                     DecisionTreeClassifier()),\n",
       "                                                    (&#x27;random_forest&#x27;,\n",
       "                                                     RandomForestClassifier(criterion=&#x27;entropy&#x27;,\n",
       "                                                                            max_depth=7,\n",
       "                                                                            max_features=&#x27;log2&#x27;,\n",
       "                                                                            n_estimators=60))]),\n",
       "             param_grid={&#x27;dt__max_depth&#x27;: [3, 5, 7, 10],\n",
       "                         &#x27;knn__n_neighbors&#x27;: [3, 5, 7, 10],\n",
       "                         &#x27;random_forest__max_depth&#x27;: [3, 5, 7, 10],\n",
       "                         &#x27;random_forest__n_estimators&#x27;: [50, 60, 70, 80, 90,\n",
       "                                                         100]})</pre><b>In a Jupyter environment, please rerun this cell to show the HTML representation or trust the notebook. <br />On GitHub, the HTML representation is unable to render, please try loading this page with nbviewer.org.</b></div><div class=\"sk-container\" hidden><div class=\"sk-item sk-dashed-wrapped\"><div class=\"sk-label-container\"><div class=\"sk-label sk-toggleable\"><input class=\"sk-toggleable__control sk-hidden--visually\" id=\"sk-estimator-id-21\" type=\"checkbox\" ><label for=\"sk-estimator-id-21\" class=\"sk-toggleable__label sk-toggleable__label-arrow\">GridSearchCV</label><div class=\"sk-toggleable__content\"><pre>GridSearchCV(cv=5,\n",
       "             estimator=VotingClassifier(estimators=[(&#x27;knn&#x27;,\n",
       "                                                     KNeighborsClassifier()),\n",
       "                                                    (&#x27;dt&#x27;,\n",
       "                                                     DecisionTreeClassifier()),\n",
       "                                                    (&#x27;random_forest&#x27;,\n",
       "                                                     RandomForestClassifier(criterion=&#x27;entropy&#x27;,\n",
       "                                                                            max_depth=7,\n",
       "                                                                            max_features=&#x27;log2&#x27;,\n",
       "                                                                            n_estimators=60))]),\n",
       "             param_grid={&#x27;dt__max_depth&#x27;: [3, 5, 7, 10],\n",
       "                         &#x27;knn__n_neighbors&#x27;: [3, 5, 7, 10],\n",
       "                         &#x27;random_forest__max_depth&#x27;: [3, 5, 7, 10],\n",
       "                         &#x27;random_forest__n_estimators&#x27;: [50, 60, 70, 80, 90,\n",
       "                                                         100]})</pre></div></div></div><div class=\"sk-parallel\"><div class=\"sk-parallel-item\"><div class=\"sk-item\"><div class=\"sk-label-container\"><div class=\"sk-label sk-toggleable\"><input class=\"sk-toggleable__control sk-hidden--visually\" id=\"sk-estimator-id-22\" type=\"checkbox\" ><label for=\"sk-estimator-id-22\" class=\"sk-toggleable__label sk-toggleable__label-arrow\">estimator: VotingClassifier</label><div class=\"sk-toggleable__content\"><pre>VotingClassifier(estimators=[(&#x27;knn&#x27;, KNeighborsClassifier()),\n",
       "                             (&#x27;dt&#x27;, DecisionTreeClassifier()),\n",
       "                             (&#x27;random_forest&#x27;,\n",
       "                              RandomForestClassifier(criterion=&#x27;entropy&#x27;,\n",
       "                                                     max_depth=7,\n",
       "                                                     max_features=&#x27;log2&#x27;,\n",
       "                                                     n_estimators=60))])</pre></div></div></div><div class=\"sk-serial\"><div class=\"sk-item sk-dashed-wrapped\"><div class=\"sk-parallel\"><div class=\"sk-parallel-item\"><div class=\"sk-item\"><div class=\"sk-label-container\"><div class=\"sk-label sk-toggleable\"><label>knn</label></div></div><div class=\"sk-serial\"><div class=\"sk-item\"><div class=\"sk-estimator sk-toggleable\"><input class=\"sk-toggleable__control sk-hidden--visually\" id=\"sk-estimator-id-23\" type=\"checkbox\" ><label for=\"sk-estimator-id-23\" class=\"sk-toggleable__label sk-toggleable__label-arrow\">KNeighborsClassifier</label><div class=\"sk-toggleable__content\"><pre>KNeighborsClassifier()</pre></div></div></div></div></div></div><div class=\"sk-parallel-item\"><div class=\"sk-item\"><div class=\"sk-label-container\"><div class=\"sk-label sk-toggleable\"><label>dt</label></div></div><div class=\"sk-serial\"><div class=\"sk-item\"><div class=\"sk-estimator sk-toggleable\"><input class=\"sk-toggleable__control sk-hidden--visually\" id=\"sk-estimator-id-24\" type=\"checkbox\" ><label for=\"sk-estimator-id-24\" class=\"sk-toggleable__label sk-toggleable__label-arrow\">DecisionTreeClassifier</label><div class=\"sk-toggleable__content\"><pre>DecisionTreeClassifier()</pre></div></div></div></div></div></div><div class=\"sk-parallel-item\"><div class=\"sk-item\"><div class=\"sk-label-container\"><div class=\"sk-label sk-toggleable\"><label>random_forest</label></div></div><div class=\"sk-serial\"><div class=\"sk-item\"><div class=\"sk-estimator sk-toggleable\"><input class=\"sk-toggleable__control sk-hidden--visually\" id=\"sk-estimator-id-25\" type=\"checkbox\" ><label for=\"sk-estimator-id-25\" class=\"sk-toggleable__label sk-toggleable__label-arrow\">RandomForestClassifier</label><div class=\"sk-toggleable__content\"><pre>RandomForestClassifier(criterion=&#x27;entropy&#x27;, max_depth=7, max_features=&#x27;log2&#x27;,\n",
       "                       n_estimators=60)</pre></div></div></div></div></div></div></div></div></div></div></div></div></div></div></div>"
      ],
      "text/plain": [
       "GridSearchCV(cv=5,\n",
       "             estimator=VotingClassifier(estimators=[('knn',\n",
       "                                                     KNeighborsClassifier()),\n",
       "                                                    ('dt',\n",
       "                                                     DecisionTreeClassifier()),\n",
       "                                                    ('random_forest',\n",
       "                                                     RandomForestClassifier(criterion='entropy',\n",
       "                                                                            max_depth=7,\n",
       "                                                                            max_features='log2',\n",
       "                                                                            n_estimators=60))]),\n",
       "             param_grid={'dt__max_depth': [3, 5, 7, 10],\n",
       "                         'knn__n_neighbors': [3, 5, 7, 10],\n",
       "                         'random_forest__max_depth': [3, 5, 7, 10],\n",
       "                         'random_forest__n_estimators': [50, 60, 70, 80, 90,\n",
       "                                                         100]})"
      ]
     },
     "execution_count": 85,
     "metadata": {},
     "output_type": "execute_result"
    }
   ],
   "source": [
    "from sklearn.ensemble import VotingClassifier\n",
    "\n",
    "# Create the ensemble\n",
    "ensemble = VotingClassifier(estimators=[\n",
    "    ('knn', knn_ratio_df),\n",
    "    ('dt', dt_ratio_df),\n",
    "    ('random_forest', best_params_rf)\n",
    "], voting='hard')\n",
    "\n",
    "# assign different values to tuning parameters\n",
    "param_grid = {'knn__n_neighbors': [3, 5, 7, 10],\n",
    "             'dt__max_depth': [3, 5, 7, 10],\n",
    "             'random_forest__n_estimators': [50, 60, 70, 80, 90, 100],\n",
    "             'random_forest__max_depth': [3, 5, 7, 10]}\n",
    "\n",
    "# do a grid search and fit the model\n",
    "ensemble_grid_search = GridSearchCV(estimator=ensemble, param_grid=param_grid, cv=5)\n",
    "ensemble_grid_search.fit(X_train_ratio, y_train_ratio)"
   ]
  },
  {
   "cell_type": "code",
   "execution_count": 86,
   "id": "2e559964",
   "metadata": {},
   "outputs": [
    {
     "data": {
      "text/plain": [
       "{'dt__max_depth': 3,\n",
       " 'knn__n_neighbors': 5,\n",
       " 'random_forest__max_depth': 7,\n",
       " 'random_forest__n_estimators': 90}"
      ]
     },
     "execution_count": 86,
     "metadata": {},
     "output_type": "execute_result"
    }
   ],
   "source": [
    "# get the best parameters\n",
    "ensemble_grid_search.best_params_"
   ]
  },
  {
   "cell_type": "code",
   "execution_count": 87,
   "id": "f89372da",
   "metadata": {},
   "outputs": [
    {
     "data": {
      "text/html": [
       "<style>#sk-container-id-15 {color: black;}#sk-container-id-15 pre{padding: 0;}#sk-container-id-15 div.sk-toggleable {background-color: white;}#sk-container-id-15 label.sk-toggleable__label {cursor: pointer;display: block;width: 100%;margin-bottom: 0;padding: 0.3em;box-sizing: border-box;text-align: center;}#sk-container-id-15 label.sk-toggleable__label-arrow:before {content: \"▸\";float: left;margin-right: 0.25em;color: #696969;}#sk-container-id-15 label.sk-toggleable__label-arrow:hover:before {color: black;}#sk-container-id-15 div.sk-estimator:hover label.sk-toggleable__label-arrow:before {color: black;}#sk-container-id-15 div.sk-toggleable__content {max-height: 0;max-width: 0;overflow: hidden;text-align: left;background-color: #f0f8ff;}#sk-container-id-15 div.sk-toggleable__content pre {margin: 0.2em;color: black;border-radius: 0.25em;background-color: #f0f8ff;}#sk-container-id-15 input.sk-toggleable__control:checked~div.sk-toggleable__content {max-height: 200px;max-width: 100%;overflow: auto;}#sk-container-id-15 input.sk-toggleable__control:checked~label.sk-toggleable__label-arrow:before {content: \"▾\";}#sk-container-id-15 div.sk-estimator input.sk-toggleable__control:checked~label.sk-toggleable__label {background-color: #d4ebff;}#sk-container-id-15 div.sk-label input.sk-toggleable__control:checked~label.sk-toggleable__label {background-color: #d4ebff;}#sk-container-id-15 input.sk-hidden--visually {border: 0;clip: rect(1px 1px 1px 1px);clip: rect(1px, 1px, 1px, 1px);height: 1px;margin: -1px;overflow: hidden;padding: 0;position: absolute;width: 1px;}#sk-container-id-15 div.sk-estimator {font-family: monospace;background-color: #f0f8ff;border: 1px dotted black;border-radius: 0.25em;box-sizing: border-box;margin-bottom: 0.5em;}#sk-container-id-15 div.sk-estimator:hover {background-color: #d4ebff;}#sk-container-id-15 div.sk-parallel-item::after {content: \"\";width: 100%;border-bottom: 1px solid gray;flex-grow: 1;}#sk-container-id-15 div.sk-label:hover label.sk-toggleable__label {background-color: #d4ebff;}#sk-container-id-15 div.sk-serial::before {content: \"\";position: absolute;border-left: 1px solid gray;box-sizing: border-box;top: 0;bottom: 0;left: 50%;z-index: 0;}#sk-container-id-15 div.sk-serial {display: flex;flex-direction: column;align-items: center;background-color: white;padding-right: 0.2em;padding-left: 0.2em;position: relative;}#sk-container-id-15 div.sk-item {position: relative;z-index: 1;}#sk-container-id-15 div.sk-parallel {display: flex;align-items: stretch;justify-content: center;background-color: white;position: relative;}#sk-container-id-15 div.sk-item::before, #sk-container-id-15 div.sk-parallel-item::before {content: \"\";position: absolute;border-left: 1px solid gray;box-sizing: border-box;top: 0;bottom: 0;left: 50%;z-index: -1;}#sk-container-id-15 div.sk-parallel-item {display: flex;flex-direction: column;z-index: 1;position: relative;background-color: white;}#sk-container-id-15 div.sk-parallel-item:first-child::after {align-self: flex-end;width: 50%;}#sk-container-id-15 div.sk-parallel-item:last-child::after {align-self: flex-start;width: 50%;}#sk-container-id-15 div.sk-parallel-item:only-child::after {width: 0;}#sk-container-id-15 div.sk-dashed-wrapped {border: 1px dashed gray;margin: 0 0.4em 0.5em 0.4em;box-sizing: border-box;padding-bottom: 0.4em;background-color: white;}#sk-container-id-15 div.sk-label label {font-family: monospace;font-weight: bold;display: inline-block;line-height: 1.2em;}#sk-container-id-15 div.sk-label-container {text-align: center;}#sk-container-id-15 div.sk-container {/* jupyter's `normalize.less` sets `[hidden] { display: none; }` but bootstrap.min.css set `[hidden] { display: none !important; }` so we also need the `!important` here to be able to override the default hidden behavior on the sphinx rendered scikit-learn.org. See: https://github.com/scikit-learn/scikit-learn/issues/21755 */display: inline-block !important;position: relative;}#sk-container-id-15 div.sk-text-repr-fallback {display: none;}</style><div id=\"sk-container-id-15\" class=\"sk-top-container\"><div class=\"sk-text-repr-fallback\"><pre>VotingClassifier(estimators=[(&#x27;knn&#x27;, KNeighborsClassifier()),\n",
       "                             (&#x27;dt&#x27;, DecisionTreeClassifier(max_depth=3)),\n",
       "                             (&#x27;random_forest&#x27;,\n",
       "                              RandomForestClassifier(max_depth=7,\n",
       "                                                     n_estimators=90))])</pre><b>In a Jupyter environment, please rerun this cell to show the HTML representation or trust the notebook. <br />On GitHub, the HTML representation is unable to render, please try loading this page with nbviewer.org.</b></div><div class=\"sk-container\" hidden><div class=\"sk-item sk-dashed-wrapped\"><div class=\"sk-label-container\"><div class=\"sk-label sk-toggleable\"><input class=\"sk-toggleable__control sk-hidden--visually\" id=\"sk-estimator-id-26\" type=\"checkbox\" ><label for=\"sk-estimator-id-26\" class=\"sk-toggleable__label sk-toggleable__label-arrow\">VotingClassifier</label><div class=\"sk-toggleable__content\"><pre>VotingClassifier(estimators=[(&#x27;knn&#x27;, KNeighborsClassifier()),\n",
       "                             (&#x27;dt&#x27;, DecisionTreeClassifier(max_depth=3)),\n",
       "                             (&#x27;random_forest&#x27;,\n",
       "                              RandomForestClassifier(max_depth=7,\n",
       "                                                     n_estimators=90))])</pre></div></div></div><div class=\"sk-parallel\"><div class=\"sk-parallel-item\"><div class=\"sk-item\"><div class=\"sk-label-container\"><div class=\"sk-label sk-toggleable\"><label>knn</label></div></div><div class=\"sk-serial\"><div class=\"sk-item\"><div class=\"sk-estimator sk-toggleable\"><input class=\"sk-toggleable__control sk-hidden--visually\" id=\"sk-estimator-id-27\" type=\"checkbox\" ><label for=\"sk-estimator-id-27\" class=\"sk-toggleable__label sk-toggleable__label-arrow\">KNeighborsClassifier</label><div class=\"sk-toggleable__content\"><pre>KNeighborsClassifier()</pre></div></div></div></div></div></div><div class=\"sk-parallel-item\"><div class=\"sk-item\"><div class=\"sk-label-container\"><div class=\"sk-label sk-toggleable\"><label>dt</label></div></div><div class=\"sk-serial\"><div class=\"sk-item\"><div class=\"sk-estimator sk-toggleable\"><input class=\"sk-toggleable__control sk-hidden--visually\" id=\"sk-estimator-id-28\" type=\"checkbox\" ><label for=\"sk-estimator-id-28\" class=\"sk-toggleable__label sk-toggleable__label-arrow\">DecisionTreeClassifier</label><div class=\"sk-toggleable__content\"><pre>DecisionTreeClassifier(max_depth=3)</pre></div></div></div></div></div></div><div class=\"sk-parallel-item\"><div class=\"sk-item\"><div class=\"sk-label-container\"><div class=\"sk-label sk-toggleable\"><label>random_forest</label></div></div><div class=\"sk-serial\"><div class=\"sk-item\"><div class=\"sk-estimator sk-toggleable\"><input class=\"sk-toggleable__control sk-hidden--visually\" id=\"sk-estimator-id-29\" type=\"checkbox\" ><label for=\"sk-estimator-id-29\" class=\"sk-toggleable__label sk-toggleable__label-arrow\">RandomForestClassifier</label><div class=\"sk-toggleable__content\"><pre>RandomForestClassifier(max_depth=7, n_estimators=90)</pre></div></div></div></div></div></div></div></div></div></div>"
      ],
      "text/plain": [
       "VotingClassifier(estimators=[('knn', KNeighborsClassifier()),\n",
       "                             ('dt', DecisionTreeClassifier(max_depth=3)),\n",
       "                             ('random_forest',\n",
       "                              RandomForestClassifier(max_depth=7,\n",
       "                                                     n_estimators=90))])"
      ]
     },
     "execution_count": 87,
     "metadata": {},
     "output_type": "execute_result"
    }
   ],
   "source": [
    "# create a model with the best parameter values\n",
    "ensemble_best_params = VotingClassifier(estimators=[\n",
    "    ('knn', KNeighborsClassifier(n_neighbors=5)),\n",
    "    ('dt', DecisionTreeClassifier(max_depth=3)),\n",
    "    ('random_forest', RandomForestClassifier(max_depth=7, n_estimators=90))\n",
    "])\n",
    "\n",
    "ensemble_best_params.fit(X_train_ratio, y_train_ratio)"
   ]
  },
  {
   "cell_type": "code",
   "execution_count": 89,
   "id": "af8a8cd1",
   "metadata": {},
   "outputs": [
    {
     "name": "stdout",
     "output_type": "stream",
     "text": [
      "Training accuracy: 0.5334158415841584\n",
      "Testing accuracy: 0.25742574257425743\n",
      "Training precision: 0.6597305633476811\n",
      "Testing precision: 0.27899430816097476\n",
      "Training recall: 0.44740201819197245\n",
      "Testing recall: 0.1957861623431799\n"
     ]
    },
    {
     "name": "stderr",
     "output_type": "stream",
     "text": [
      "C:\\ProgramData\\anaconda3\\Lib\\site-packages\\sklearn\\metrics\\_classification.py:1469: UndefinedMetricWarning: Precision is ill-defined and being set to 0.0 in labels with no predicted samples. Use `zero_division` parameter to control this behavior.\n",
      "  _warn_prf(average, modifier, msg_start, len(result))\n"
     ]
    }
   ],
   "source": [
    "# Predict using the ensemble\n",
    "yhat_train_ensemble = ensemble_best_params.predict(X_train_ratio)\n",
    "yhat_test_ensemble = ensemble_best_params.predict(X_test_ratio)\n",
    "\n",
    "print('Training accuracy:', accuracy_score(y_train_ratio, yhat_train_ensemble))\n",
    "print('Testing accuracy:', accuracy_score(y_test_ratio, yhat_test_ensemble))\n",
    "\n",
    "print('Training precision:', precision_score(y_train_ratio, yhat_train_ensemble, average='macro'))\n",
    "print('Testing precision:', precision_score(y_test_ratio, yhat_test_ensemble, average='macro'))\n",
    "\n",
    "print('Training recall:', recall_score(y_train_ratio, yhat_train_ensemble, average='macro'))\n",
    "print('Testing recall:', recall_score(y_test_ratio, yhat_test_ensemble, average='macro'))"
   ]
  },
  {
   "cell_type": "markdown",
   "id": "a6c986c6",
   "metadata": {},
   "source": [
    "# Clustering"
   ]
  },
  {
   "cell_type": "code",
   "execution_count": null,
   "id": "30349c68",
   "metadata": {},
   "outputs": [],
   "source": []
  }
 ],
 "metadata": {
  "kernelspec": {
   "display_name": "Python 3 (ipykernel)",
   "language": "python",
   "name": "python3"
  },
  "language_info": {
   "codemirror_mode": {
    "name": "ipython",
    "version": 3
   },
   "file_extension": ".py",
   "mimetype": "text/x-python",
   "name": "python",
   "nbconvert_exporter": "python",
   "pygments_lexer": "ipython3",
   "version": "3.11.5"
  }
 },
 "nbformat": 4,
 "nbformat_minor": 5
}
